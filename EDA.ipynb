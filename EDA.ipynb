{
 "cells": [
  {
   "cell_type": "code",
   "execution_count": 123,
   "id": "homeless-alberta",
   "metadata": {},
   "outputs": [],
   "source": [
    "import pandas as pd\n",
    "import numpy as np\n",
    "\n",
    "data = pd.read_csv('NSQ_OneYear100test_Sept21.csv', \n",
    "                   usecols=['Local_Date_Time','RIC','Open','High','Low','Close','VWAP','NumberOfTrades','Volume'],\n",
    "                   dtype={'Local_Date_Time': str,\n",
    "                          'RIC': str, \n",
    "                          'Open': np.float64,\n",
    "                          'High': np.float64,\n",
    "                          'Low': np.float64,\n",
    "                          'Close': np.float64,\n",
    "                          'VWAP': np.float64,\n",
    "                          'NumberOfTrades': int,\n",
    "                          'Volume': int},\n",
    "                   skipinitialspace=True,\n",
    "                   parse_dates=True)"
   ]
  },
  {
   "cell_type": "code",
   "execution_count": 124,
   "id": "psychological-handling",
   "metadata": {},
   "outputs": [],
   "source": [
    "data['Diff_HL'] = data['High'] - data['Low']\n",
    "data['Diff_Close'] = data['Close'].diff()"
   ]
  },
  {
   "cell_type": "code",
   "execution_count": 125,
   "id": "cellular-transport",
   "metadata": {},
   "outputs": [
    {
     "data": {
      "text/html": [
       "<div>\n",
       "<style scoped>\n",
       "    .dataframe tbody tr th:only-of-type {\n",
       "        vertical-align: middle;\n",
       "    }\n",
       "\n",
       "    .dataframe tbody tr th {\n",
       "        vertical-align: top;\n",
       "    }\n",
       "\n",
       "    .dataframe thead th {\n",
       "        text-align: right;\n",
       "    }\n",
       "</style>\n",
       "<table border=\"1\" class=\"dataframe\">\n",
       "  <thead>\n",
       "    <tr style=\"text-align: right;\">\n",
       "      <th></th>\n",
       "      <th>Local_Date_Time</th>\n",
       "      <th>RIC</th>\n",
       "      <th>Open</th>\n",
       "      <th>High</th>\n",
       "      <th>Low</th>\n",
       "      <th>Close</th>\n",
       "      <th>VWAP</th>\n",
       "      <th>NumberOfTrades</th>\n",
       "      <th>Volume</th>\n",
       "      <th>Diff_HL</th>\n",
       "      <th>Diff_Close</th>\n",
       "    </tr>\n",
       "  </thead>\n",
       "  <tbody>\n",
       "    <tr>\n",
       "      <th>0</th>\n",
       "      <td>2020-09-01 09:30:00</td>\n",
       "      <td>AAPL.O</td>\n",
       "      <td>132.76</td>\n",
       "      <td>132.92</td>\n",
       "      <td>131.49</td>\n",
       "      <td>131.6700</td>\n",
       "      <td>132.656</td>\n",
       "      <td>7032</td>\n",
       "      <td>5143217</td>\n",
       "      <td>1.43</td>\n",
       "      <td>NaN</td>\n",
       "    </tr>\n",
       "    <tr>\n",
       "      <th>1</th>\n",
       "      <td>2020-09-01 09:31:00</td>\n",
       "      <td>AAPL.O</td>\n",
       "      <td>131.71</td>\n",
       "      <td>132.00</td>\n",
       "      <td>131.32</td>\n",
       "      <td>131.6852</td>\n",
       "      <td>131.696</td>\n",
       "      <td>4657</td>\n",
       "      <td>1089138</td>\n",
       "      <td>0.68</td>\n",
       "      <td>0.0152</td>\n",
       "    </tr>\n",
       "    <tr>\n",
       "      <th>2</th>\n",
       "      <td>2020-09-01 09:32:00</td>\n",
       "      <td>AAPL.O</td>\n",
       "      <td>131.66</td>\n",
       "      <td>132.00</td>\n",
       "      <td>131.13</td>\n",
       "      <td>131.8100</td>\n",
       "      <td>131.554</td>\n",
       "      <td>4668</td>\n",
       "      <td>1062337</td>\n",
       "      <td>0.87</td>\n",
       "      <td>0.1248</td>\n",
       "    </tr>\n",
       "    <tr>\n",
       "      <th>3</th>\n",
       "      <td>2020-09-01 09:33:00</td>\n",
       "      <td>AAPL.O</td>\n",
       "      <td>131.81</td>\n",
       "      <td>131.83</td>\n",
       "      <td>130.81</td>\n",
       "      <td>130.9047</td>\n",
       "      <td>131.158</td>\n",
       "      <td>5074</td>\n",
       "      <td>1147498</td>\n",
       "      <td>1.02</td>\n",
       "      <td>-0.9053</td>\n",
       "    </tr>\n",
       "    <tr>\n",
       "      <th>4</th>\n",
       "      <td>2020-09-01 09:34:00</td>\n",
       "      <td>AAPL.O</td>\n",
       "      <td>130.91</td>\n",
       "      <td>131.39</td>\n",
       "      <td>130.89</td>\n",
       "      <td>131.3300</td>\n",
       "      <td>131.134</td>\n",
       "      <td>4179</td>\n",
       "      <td>915152</td>\n",
       "      <td>0.50</td>\n",
       "      <td>0.4253</td>\n",
       "    </tr>\n",
       "    <tr>\n",
       "      <th>...</th>\n",
       "      <td>...</td>\n",
       "      <td>...</td>\n",
       "      <td>...</td>\n",
       "      <td>...</td>\n",
       "      <td>...</td>\n",
       "      <td>...</td>\n",
       "      <td>...</td>\n",
       "      <td>...</td>\n",
       "      <td>...</td>\n",
       "      <td>...</td>\n",
       "      <td>...</td>\n",
       "    </tr>\n",
       "    <tr>\n",
       "      <th>9509788</th>\n",
       "      <td>2021-09-01 15:55:00</td>\n",
       "      <td>ZM.O</td>\n",
       "      <td>291.00</td>\n",
       "      <td>291.08</td>\n",
       "      <td>290.89</td>\n",
       "      <td>290.9300</td>\n",
       "      <td>290.973</td>\n",
       "      <td>257</td>\n",
       "      <td>33071</td>\n",
       "      <td>0.19</td>\n",
       "      <td>-0.0100</td>\n",
       "    </tr>\n",
       "    <tr>\n",
       "      <th>9509789</th>\n",
       "      <td>2021-09-01 15:56:00</td>\n",
       "      <td>ZM.O</td>\n",
       "      <td>290.92</td>\n",
       "      <td>290.98</td>\n",
       "      <td>290.83</td>\n",
       "      <td>290.8975</td>\n",
       "      <td>290.903</td>\n",
       "      <td>179</td>\n",
       "      <td>22543</td>\n",
       "      <td>0.15</td>\n",
       "      <td>-0.0325</td>\n",
       "    </tr>\n",
       "    <tr>\n",
       "      <th>9509790</th>\n",
       "      <td>2021-09-01 15:57:00</td>\n",
       "      <td>ZM.O</td>\n",
       "      <td>290.85</td>\n",
       "      <td>290.92</td>\n",
       "      <td>290.80</td>\n",
       "      <td>290.8200</td>\n",
       "      <td>290.851</td>\n",
       "      <td>275</td>\n",
       "      <td>42320</td>\n",
       "      <td>0.12</td>\n",
       "      <td>-0.0775</td>\n",
       "    </tr>\n",
       "    <tr>\n",
       "      <th>9509791</th>\n",
       "      <td>2021-09-01 15:58:00</td>\n",
       "      <td>ZM.O</td>\n",
       "      <td>290.82</td>\n",
       "      <td>290.91</td>\n",
       "      <td>290.71</td>\n",
       "      <td>290.8000</td>\n",
       "      <td>290.807</td>\n",
       "      <td>359</td>\n",
       "      <td>42121</td>\n",
       "      <td>0.20</td>\n",
       "      <td>-0.0200</td>\n",
       "    </tr>\n",
       "    <tr>\n",
       "      <th>9509792</th>\n",
       "      <td>2021-09-01 15:59:00</td>\n",
       "      <td>ZM.O</td>\n",
       "      <td>290.79</td>\n",
       "      <td>290.98</td>\n",
       "      <td>290.74</td>\n",
       "      <td>290.7500</td>\n",
       "      <td>290.826</td>\n",
       "      <td>555</td>\n",
       "      <td>84682</td>\n",
       "      <td>0.24</td>\n",
       "      <td>-0.0500</td>\n",
       "    </tr>\n",
       "  </tbody>\n",
       "</table>\n",
       "<p>9509793 rows × 11 columns</p>\n",
       "</div>"
      ],
      "text/plain": [
       "             Local_Date_Time     RIC    Open    High     Low     Close  \\\n",
       "0        2020-09-01 09:30:00  AAPL.O  132.76  132.92  131.49  131.6700   \n",
       "1        2020-09-01 09:31:00  AAPL.O  131.71  132.00  131.32  131.6852   \n",
       "2        2020-09-01 09:32:00  AAPL.O  131.66  132.00  131.13  131.8100   \n",
       "3        2020-09-01 09:33:00  AAPL.O  131.81  131.83  130.81  130.9047   \n",
       "4        2020-09-01 09:34:00  AAPL.O  130.91  131.39  130.89  131.3300   \n",
       "...                      ...     ...     ...     ...     ...       ...   \n",
       "9509788  2021-09-01 15:55:00    ZM.O  291.00  291.08  290.89  290.9300   \n",
       "9509789  2021-09-01 15:56:00    ZM.O  290.92  290.98  290.83  290.8975   \n",
       "9509790  2021-09-01 15:57:00    ZM.O  290.85  290.92  290.80  290.8200   \n",
       "9509791  2021-09-01 15:58:00    ZM.O  290.82  290.91  290.71  290.8000   \n",
       "9509792  2021-09-01 15:59:00    ZM.O  290.79  290.98  290.74  290.7500   \n",
       "\n",
       "            VWAP  NumberOfTrades   Volume  Diff_HL  Diff_Close  \n",
       "0        132.656            7032  5143217     1.43         NaN  \n",
       "1        131.696            4657  1089138     0.68      0.0152  \n",
       "2        131.554            4668  1062337     0.87      0.1248  \n",
       "3        131.158            5074  1147498     1.02     -0.9053  \n",
       "4        131.134            4179   915152     0.50      0.4253  \n",
       "...          ...             ...      ...      ...         ...  \n",
       "9509788  290.973             257    33071     0.19     -0.0100  \n",
       "9509789  290.903             179    22543     0.15     -0.0325  \n",
       "9509790  290.851             275    42320     0.12     -0.0775  \n",
       "9509791  290.807             359    42121     0.20     -0.0200  \n",
       "9509792  290.826             555    84682     0.24     -0.0500  \n",
       "\n",
       "[9509793 rows x 11 columns]"
      ]
     },
     "execution_count": 125,
     "metadata": {},
     "output_type": "execute_result"
    }
   ],
   "source": [
    "data"
   ]
  },
  {
   "cell_type": "code",
   "execution_count": 132,
   "id": "aggregate-correction",
   "metadata": {},
   "outputs": [],
   "source": [
    "# Filter out only Apple\n",
    "apple = data[data['RIC'] == 'AAPL.O']"
   ]
  },
  {
   "cell_type": "code",
   "execution_count": 138,
   "id": "transsexual-scope",
   "metadata": {},
   "outputs": [],
   "source": [
    "# Filter out Apple in September 1, 2020\n",
    "apple202009 = apple[apple['Local_Date_Time'] <= '2020-09-01 16:00:00']"
   ]
  },
  {
   "cell_type": "code",
   "execution_count": 139,
   "id": "induced-scanner",
   "metadata": {},
   "outputs": [
    {
     "data": {
      "text/plain": [
       "9"
      ]
     },
     "execution_count": 139,
     "metadata": {},
     "output_type": "execute_result"
    }
   ],
   "source": [
    "from datetime import datetime\n",
    "\n",
    "datetime.strptime('2020-09-01 09:30:00', '%Y-%m-%d %H:%M:%S').month"
   ]
  },
  {
   "cell_type": "code",
   "execution_count": 140,
   "id": "centered-defense",
   "metadata": {},
   "outputs": [
    {
     "data": {
      "image/png": "[encoded data removed]",
      "text/plain": [
       "<Figure size 432x288 with 1 Axes>"
      ]
     },
     "metadata": {
      "needs_background": "light"
     },
     "output_type": "display_data"
    }
   ],
   "source": [
    "# Plots\n",
    "import matplotlib.pyplot as plt\n",
    "\n",
    "# Time and price\n",
    "plt.plot(apple202009['Local_Date_Time'], apple202009['Close'])\n",
    "plt.show()"
   ]
  },
  {
   "cell_type": "code",
   "execution_count": 141,
   "id": "horizontal-rally",
   "metadata": {},
   "outputs": [
    {
     "data": {
      "image/png": "[encoded data removed]",
      "text/plain": [
       "<Figure size 432x288 with 1 Axes>"
      ]
     },
     "metadata": {
      "needs_background": "light"
     },
     "output_type": "display_data"
    }
   ],
   "source": [
    "# Time and volatility (difference between high and low)\n",
    "plt.plot(apple202009['Local_Date_Time'], apple202009['Diff_HL'])\n",
    "plt.show()"
   ]
  },
  {
   "cell_type": "code",
   "execution_count": null,
   "id": "balanced-warning",
   "metadata": {},
   "outputs": [],
   "source": []
  }
 ],
 "metadata": {
  "kernelspec": {
   "display_name": "Python 3",
   "language": "python",
   "name": "python3"
  },
  "language_info": {
   "codemirror_mode": {
    "name": "ipython",
    "version": 3
   },
   "file_extension": ".py",
   "mimetype": "text/x-python",
   "name": "python",
   "nbconvert_exporter": "python",
   "pygments_lexer": "ipython3",
   "version": "3.7.9"
  }
 },
 "nbformat": 4,
 "nbformat_minor": 5
}
